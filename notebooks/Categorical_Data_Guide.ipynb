{
 "cells": [
  {
   "cell_type": "markdown",
   "metadata": {},
   "source": [
    "<img align=\"right\" src=\"images/data_types.png\" width=\"480px\">\n",
    "\n",
    "## Categorical Data Encoding Guide\n",
    "\n",
    "**TLDR: 25x Memory Reduction and Faster Performance on Pandas Dataframe**\n",
    "\n",
    "This guide steps us through the process of understanding and leveraging categorical data features. We'll give step by step instructions and examples on converting data features using the Pandas **category** type. In a follow on notebook will show how to properly use categorical data with machine learning models [Categorical Data, ML, and Dangers!](https://nbviewer.jupyter.org/github/SuperCowPowers/scp-labs/blob/master/notebooks/Categorical_Encoding_Dangers.ipynb).\n",
    "\n",
    "As we can see by the diagram on the right, categorical features include things like:\n",
    "\n",
    "    Music Genre = 'jazz', 'rock', 'classical', ...\n",
    "    DNS Records = 'A', 'AAAA', 'PTR', 'TXT', 'SVR', ...\n",
    "  \n",
    "We'll be discussing both the nominal and ordinal types of categorical features. These features can be important discriminators when classifying and organizing data. Converting features into categorical types gives important benefits, in both memory and performance. Toward the end of this notebook will leverage our small/fast categorical data fields to show off some nice functionality with a quick **(and eye opening!)** analysis of data from the [Stanford Open Policing Project](https://openpolicing.stanford.edu/).\n",
    "\n",
    "In the follow up notebook we'll be discussing how to convert categorical features in preparation for machine learning libraries like Scikit-Learn or PyTorch [Categorical Data, ML, and Dangers!](https://nbviewer.jupyter.org/github/SuperCowPowers/scp-labs/blob/master/notebooks/Categorical_Encoding_Dangers.ipynb)\n",
    "\n",
    "<img align=\"right\" src=\"images/stanford_po.png\" width=\"250px\">\n",
    "\n",
    "## Data Used\n",
    "- [Stanford Open Policing Project](https://openpolicing.stanford.edu/)\n",
    "- [Connecticut Data](https://stacks.stanford.edu/file/druid:py883nd2578/CT-clean.csv.gz)\n",
    "\n",
    "**NOTE:** We're simply using this data for demonstration purposes so we've pulled a subset\n",
    "          of the data above and saved that into a file data/ci_police_data.csv\n",
    "\n",
    "## Resources for Categorical Encoding\n",
    "<img align=\"right\" src=\"images/pandas.png\" width=\"250px\">\n",
    "\n",
    "- [Pandas Categorical Docs](https://pandas.pydata.org/pandas-docs/stable/categorical.html)\n",
    "- [Pandas Github Issue](https://github.com/pandas-dev/pandas/issues/8918)\n",
    "- [Get Smarties](https://github.com/joeddav/get_smarties)\n",
    "- [Tom Augspurger PyData Chicago 2016](https://youtu.be/KLPtEBokqQ0)\n",
    "- [Categorical Handling for Python](https://www.datacamp.com/community/tutorials/categorical-data)\n",
    "\n",
    "## General Resouces for Pandas\n",
    "- [Python for Data Analysis (Great Book!)](http://shop.oreilly.com/product/0636920050896.do)\n",
    "- [Data School on YouTube](https://www.youtube.com/channel/UCnVzApLJE2ljPZSeQylSEyg)"
   ]
  },
  {
   "cell_type": "code",
   "execution_count": 16,
   "metadata": {},
   "outputs": [
    {
     "name": "stdout",
     "output_type": "stream",
     "text": [
      "0.23.4\n"
     ]
    }
   ],
   "source": [
    "# Note: It's always a good idea to print out library versions\n",
    "import pandas as pd\n",
    "print(pd.__version__)\n",
    "\n",
    "# Plotting defaults\n",
    "import matplotlib.pyplot as plt\n",
    "plt.rcParams['font.size'] = 14.0\n",
    "plt.rcParams['figure.figsize'] = 12.0, 5.0"
   ]
  },
  {
   "cell_type": "markdown",
   "metadata": {},
   "source": [
    "<img align=\"left\" src=\"images/stanford_po.png\" width=\"250px\">\n",
    "<img align=\"right\" src=\"images/police.jpg\" width=\"200px\">\n",
    "\n",
    "### Open up our dataset\n",
    "As mentioned above we're going to be using a subset of the **Stanford Open Policing Project** data. Specifically we're using the dataset from Connecticut and although we looked we didn't see any Storm Troopers arrests. :)\n",
    "\n",
    "Note: Pandas conducts inference of the file type from the name and will automatically unzip files for you."
   ]
  },
  {
   "cell_type": "code",
   "execution_count": 3,
   "metadata": {},
   "outputs": [],
   "source": [
    "df = pd.read_csv('data/ci_police_data.csv.gz')"
   ]
  },
  {
   "cell_type": "code",
   "execution_count": 4,
   "metadata": {},
   "outputs": [
    {
     "data": {
      "text/html": [
       "<div>\n",
       "<style scoped>\n",
       "    .dataframe tbody tr th:only-of-type {\n",
       "        vertical-align: middle;\n",
       "    }\n",
       "\n",
       "    .dataframe tbody tr th {\n",
       "        vertical-align: top;\n",
       "    }\n",
       "\n",
       "    .dataframe thead th {\n",
       "        text-align: right;\n",
       "    }\n",
       "</style>\n",
       "<table border=\"1\" class=\"dataframe\">\n",
       "  <thead>\n",
       "    <tr style=\"text-align: right;\">\n",
       "      <th></th>\n",
       "      <th>county_name</th>\n",
       "      <th>driver_gender</th>\n",
       "      <th>driver_age</th>\n",
       "      <th>driver_race</th>\n",
       "      <th>violation</th>\n",
       "      <th>search_conducted</th>\n",
       "      <th>search_type</th>\n",
       "      <th>stop_outcome</th>\n",
       "    </tr>\n",
       "  </thead>\n",
       "  <tbody>\n",
       "    <tr>\n",
       "      <th>0</th>\n",
       "      <td>Fairfield County</td>\n",
       "      <td>F</td>\n",
       "      <td>69.0</td>\n",
       "      <td>Black</td>\n",
       "      <td>Speeding</td>\n",
       "      <td>False</td>\n",
       "      <td>NaN</td>\n",
       "      <td>Ticket</td>\n",
       "    </tr>\n",
       "    <tr>\n",
       "      <th>1</th>\n",
       "      <td>Tolland County</td>\n",
       "      <td>M</td>\n",
       "      <td>20.0</td>\n",
       "      <td>White</td>\n",
       "      <td>Moving violation</td>\n",
       "      <td>False</td>\n",
       "      <td>NaN</td>\n",
       "      <td>Verbal Warning</td>\n",
       "    </tr>\n",
       "    <tr>\n",
       "      <th>2</th>\n",
       "      <td>New London County</td>\n",
       "      <td>M</td>\n",
       "      <td>34.0</td>\n",
       "      <td>Hispanic</td>\n",
       "      <td>Speeding</td>\n",
       "      <td>False</td>\n",
       "      <td>NaN</td>\n",
       "      <td>Ticket</td>\n",
       "    </tr>\n",
       "    <tr>\n",
       "      <th>3</th>\n",
       "      <td>Fairfield County</td>\n",
       "      <td>M</td>\n",
       "      <td>46.0</td>\n",
       "      <td>Black</td>\n",
       "      <td>Speeding</td>\n",
       "      <td>False</td>\n",
       "      <td>NaN</td>\n",
       "      <td>Written Warning</td>\n",
       "    </tr>\n",
       "    <tr>\n",
       "      <th>4</th>\n",
       "      <td>Hartford County</td>\n",
       "      <td>M</td>\n",
       "      <td>30.0</td>\n",
       "      <td>White</td>\n",
       "      <td>Speeding</td>\n",
       "      <td>False</td>\n",
       "      <td>NaN</td>\n",
       "      <td>Ticket</td>\n",
       "    </tr>\n",
       "  </tbody>\n",
       "</table>\n",
       "</div>"
      ],
      "text/plain": [
       "         county_name driver_gender  driver_age driver_race         violation  \\\n",
       "0   Fairfield County             F        69.0       Black          Speeding   \n",
       "1     Tolland County             M        20.0       White  Moving violation   \n",
       "2  New London County             M        34.0    Hispanic          Speeding   \n",
       "3   Fairfield County             M        46.0       Black          Speeding   \n",
       "4    Hartford County             M        30.0       White          Speeding   \n",
       "\n",
       "   search_conducted search_type     stop_outcome  \n",
       "0             False         NaN           Ticket  \n",
       "1             False         NaN   Verbal Warning  \n",
       "2             False         NaN           Ticket  \n",
       "3             False         NaN  Written Warning  \n",
       "4             False         NaN           Ticket  "
      ]
     },
     "execution_count": 4,
     "metadata": {},
     "output_type": "execute_result"
    }
   ],
   "source": [
    "df.head()"
   ]
  },
  {
   "cell_type": "markdown",
   "metadata": {},
   "source": [
    "<img align=\"right\" src=\"images/deep_dive.jpg\" width=\"250px\">\n",
    "\n",
    "## Deeper Dive\n",
    "Let's take a deeper dive and investigate our Dataframe types and memory usage. The columns below list the types for the contained data. Float, bool, and object, the object type is typically a string but can be a list, dictionary or other Python object."
   ]
  },
  {
   "cell_type": "code",
   "execution_count": 5,
   "metadata": {},
   "outputs": [
    {
     "name": "stdout",
     "output_type": "stream",
     "text": [
      "<class 'pandas.core.frame.DataFrame'>\n",
      "RangeIndex: 5000 entries, 0 to 4999\n",
      "Data columns (total 8 columns):\n",
      "county_name         5000 non-null object\n",
      "driver_gender       5000 non-null object\n",
      "driver_age          4998 non-null float64\n",
      "driver_race         5000 non-null object\n",
      "violation           5000 non-null object\n",
      "search_conducted    5000 non-null bool\n",
      "search_type         70 non-null object\n",
      "stop_outcome        4921 non-null object\n",
      "dtypes: bool(1), float64(1), object(6)\n",
      "memory usage: 1.8 MB\n"
     ]
    }
   ],
   "source": [
    "df.info(memory_usage='deep')"
   ]
  },
  {
   "cell_type": "code",
   "execution_count": 6,
   "metadata": {},
   "outputs": [
    {
     "name": "stdout",
     "output_type": "stream",
     "text": [
      "County Name: ['Fairfield County' 'Tolland County' 'New London County' 'Hartford County'\n",
      " 'Litchfield County' 'New Haven County' 'Middlesex County'\n",
      " 'Windham County']\n",
      "\n",
      "Driver Gender: ['F' 'M']\n",
      "\n",
      "Driver Race: ['Black' 'White' 'Hispanic' 'Other']\n",
      "\n",
      "Violation: ['Speeding' 'Moving violation' 'Lights' 'Other' 'Registration/plates'\n",
      " 'Safe movement' 'License' 'Stop sign/light' 'Seat belt' 'Cell phone'\n",
      " 'Equipment' 'License,Other' 'Other,Registration/plates' 'Other,Speeding'\n",
      " 'Moving violation,Other' 'Registration/plates,Speeding' 'Other,Seat belt'\n",
      " 'License,Lights' 'Lights,Speeding']\n",
      "\n",
      "Search Type: [nan 'Consent' 'Other' 'Inventory']\n",
      "\n",
      "Stop Outcome: ['Ticket' 'Verbal Warning' 'Written Warning' nan 'Summons' 'Arrest']\n"
     ]
    }
   ],
   "source": [
    "# Let's look at the unique values for the columns that we might want \n",
    "# to change into a category type instead of leaving as string.\n",
    "# We have 6 columns that we consider changing to categories\n",
    "print('County Name: {!s}'.format(df['county_name'].unique()))\n",
    "print('\\nDriver Gender: {!s}'.format(df['driver_gender'].unique()))\n",
    "print('\\nDriver Race: {!s}'.format(df['driver_race'].unique()))\n",
    "print('\\nViolation: {!s}'.format(df['violation'].unique()))\n",
    "print('\\nSearch Type: {!s}'.format(df['search_type'].unique()))\n",
    "print('\\nStop Outcome: {!s}'.format(df['stop_outcome'].unique()))"
   ]
  },
  {
   "cell_type": "markdown",
   "metadata": {},
   "source": [
    "<img align=\"right\" src=\"images/exploration.jpg\" width=\"350px\">\n",
    "\n",
    "## Looking pretty good...\n",
    "The biggest thing we're looking for is a reasonably small number of unique values. For instance 'driver_name', if we had that field, would be a horrible field to convert because we'd have a LOT of potential values.\n",
    "\n",
    "Out of the 6 columns above they all look good except for maybe the 'Violation' column. Depending on what we want to do with our data analysis we may want to do some 'remapping' of our Violation type. For instance if we're looking for statistics on Speeding we don't really want 'Speeding', 'Other, Speeding,', 'Lights, Speeding', and 'blah, Speeding' to be treated differently. So here we do some remapping of the violation column values."
   ]
  },
  {
   "cell_type": "code",
   "execution_count": 7,
   "metadata": {},
   "outputs": [
    {
     "name": "stdout",
     "output_type": "stream",
     "text": [
      "Violation: ['Speeding' 'Moving violation' 'Lights' 'Other' 'Registration/plates'\n",
      " 'Safe movement' 'License' 'Stop sign/light' 'Seat belt' 'Cell phone'\n",
      " 'Equipment']\n"
     ]
    }
   ],
   "source": [
    "# Define our mappings for the Violoation column\n",
    "def remap(x):\n",
    "    m = {'License,Other': 'License', \n",
    "         'Other,Registration/plates': 'Registration/plates',\n",
    "         'Other,Speeding': 'Speeding', \n",
    "         'Moving violation,Other': 'Moving violation',\n",
    "         'Registration/plates,Speeding': 'Speeding', \n",
    "         'Other,Seat belt': 'Seat belt',\n",
    "         'License,Lights': 'License',\n",
    "         'Lights,Speeding': 'Speeding'}\n",
    "    return m[x] if x in m else x\n",
    "\n",
    "df['violation'] = df['violation'].map(remap)\n",
    "\n",
    "# Now check our violation column again\n",
    "print('Violation: {!s}'.format(df['violation'].unique()))"
   ]
  },
  {
   "cell_type": "markdown",
   "metadata": {},
   "source": [
    "<img align=\"left\" src=\"images/convert.png\" width=\"150px\">\n",
    "\n",
    "## Now convert the columns to Categorical types\n",
    "Okay, now that we've looked deeply at our column values, done some mapping to reduce the number of potential values we're ready to convert the Pandas dataframe to categorical columns"
   ]
  },
  {
   "cell_type": "code",
   "execution_count": 8,
   "metadata": {},
   "outputs": [
    {
     "data": {
      "text/html": [
       "<div>\n",
       "<style scoped>\n",
       "    .dataframe tbody tr th:only-of-type {\n",
       "        vertical-align: middle;\n",
       "    }\n",
       "\n",
       "    .dataframe tbody tr th {\n",
       "        vertical-align: top;\n",
       "    }\n",
       "\n",
       "    .dataframe thead th {\n",
       "        text-align: right;\n",
       "    }\n",
       "</style>\n",
       "<table border=\"1\" class=\"dataframe\">\n",
       "  <thead>\n",
       "    <tr style=\"text-align: right;\">\n",
       "      <th></th>\n",
       "      <th>county_name</th>\n",
       "      <th>driver_gender</th>\n",
       "      <th>driver_age</th>\n",
       "      <th>driver_race</th>\n",
       "      <th>violation</th>\n",
       "      <th>search_conducted</th>\n",
       "      <th>search_type</th>\n",
       "      <th>stop_outcome</th>\n",
       "    </tr>\n",
       "  </thead>\n",
       "  <tbody>\n",
       "    <tr>\n",
       "      <th>0</th>\n",
       "      <td>Fairfield County</td>\n",
       "      <td>F</td>\n",
       "      <td>69.0</td>\n",
       "      <td>Black</td>\n",
       "      <td>Speeding</td>\n",
       "      <td>False</td>\n",
       "      <td>NaN</td>\n",
       "      <td>Ticket</td>\n",
       "    </tr>\n",
       "    <tr>\n",
       "      <th>1</th>\n",
       "      <td>Tolland County</td>\n",
       "      <td>M</td>\n",
       "      <td>20.0</td>\n",
       "      <td>White</td>\n",
       "      <td>Moving violation</td>\n",
       "      <td>False</td>\n",
       "      <td>NaN</td>\n",
       "      <td>Verbal Warning</td>\n",
       "    </tr>\n",
       "    <tr>\n",
       "      <th>2</th>\n",
       "      <td>New London County</td>\n",
       "      <td>M</td>\n",
       "      <td>34.0</td>\n",
       "      <td>Hispanic</td>\n",
       "      <td>Speeding</td>\n",
       "      <td>False</td>\n",
       "      <td>NaN</td>\n",
       "      <td>Ticket</td>\n",
       "    </tr>\n",
       "    <tr>\n",
       "      <th>3</th>\n",
       "      <td>Fairfield County</td>\n",
       "      <td>M</td>\n",
       "      <td>46.0</td>\n",
       "      <td>Black</td>\n",
       "      <td>Speeding</td>\n",
       "      <td>False</td>\n",
       "      <td>NaN</td>\n",
       "      <td>Written Warning</td>\n",
       "    </tr>\n",
       "    <tr>\n",
       "      <th>4</th>\n",
       "      <td>Hartford County</td>\n",
       "      <td>M</td>\n",
       "      <td>30.0</td>\n",
       "      <td>White</td>\n",
       "      <td>Speeding</td>\n",
       "      <td>False</td>\n",
       "      <td>NaN</td>\n",
       "      <td>Ticket</td>\n",
       "    </tr>\n",
       "  </tbody>\n",
       "</table>\n",
       "</div>"
      ],
      "text/plain": [
       "         county_name driver_gender  driver_age driver_race         violation  \\\n",
       "0   Fairfield County             F        69.0       Black          Speeding   \n",
       "1     Tolland County             M        20.0       White  Moving violation   \n",
       "2  New London County             M        34.0    Hispanic          Speeding   \n",
       "3   Fairfield County             M        46.0       Black          Speeding   \n",
       "4    Hartford County             M        30.0       White          Speeding   \n",
       "\n",
       "   search_conducted search_type     stop_outcome  \n",
       "0             False         NaN           Ticket  \n",
       "1             False         NaN   Verbal Warning  \n",
       "2             False         NaN           Ticket  \n",
       "3             False         NaN  Written Warning  \n",
       "4             False         NaN           Ticket  "
      ]
     },
     "execution_count": 8,
     "metadata": {},
     "output_type": "execute_result"
    }
   ],
   "source": [
    "columns_to_convert = ['county_name', 'driver_gender', 'driver_race', \n",
    "                      'violation', 'search_type', 'stop_outcome']\n",
    "for column in columns_to_convert:\n",
    "    df[column] = df[column].astype('category')\n",
    "df.head()"
   ]
  },
  {
   "cell_type": "code",
   "execution_count": 9,
   "metadata": {},
   "outputs": [
    {
     "name": "stdout",
     "output_type": "stream",
     "text": [
      "<class 'pandas.core.frame.DataFrame'>\n",
      "RangeIndex: 5000 entries, 0 to 4999\n",
      "Data columns (total 8 columns):\n",
      "county_name         5000 non-null category\n",
      "driver_gender       5000 non-null category\n",
      "driver_age          4998 non-null float64\n",
      "driver_race         5000 non-null category\n",
      "violation           5000 non-null category\n",
      "search_conducted    5000 non-null bool\n",
      "search_type         70 non-null category\n",
      "stop_outcome        4921 non-null category\n",
      "dtypes: bool(1), category(6), float64(1)\n",
      "memory usage: 76.6 KB\n"
     ]
    }
   ],
   "source": [
    "df.info(memory_usage='deep')"
   ]
  },
  {
   "cell_type": "markdown",
   "metadata": {},
   "source": [
    "<img align=\"right\" src=\"images/fast.jpg\" width=\"380px\">\n",
    "\n",
    "## Less Memory and Better Performance!\n",
    "The dataframe looks the same (which is a good thing), but we can see above that the types of the columns have changed AND the memory use went from **1.8MB** to **77KB**. \n",
    "\n",
    "**A 25x Memory Decrease!** \n",
    "\n",
    "Not only will this conversion use less memory but dataframe operations will see a **significant performance improvement** since the values are now stored in a more efficient form.\n",
    "\n",
    "## Let's take it for a ride\n",
    "Now that we have our new compact and efficient dataframe, let's leverage some great built-in functionality:\n",
    "- groupby\n",
    "- filtering\n",
    "- aggregation"
   ]
  },
  {
   "cell_type": "code",
   "execution_count": 10,
   "metadata": {},
   "outputs": [
    {
     "data": {
      "text/plain": [
       "driver_gender  violation          \n",
       "F              Speeding                569\n",
       "               Other                   415\n",
       "               Registration/plates     222\n",
       "               Cell phone              178\n",
       "               Moving violation        125\n",
       "               Lights                   48\n",
       "               Seat belt                35\n",
       "               Stop sign/light          27\n",
       "               Safe movement            22\n",
       "               License                   8\n",
       "               Equipment                 6\n",
       "M              Speeding               1139\n",
       "               Other                   978\n",
       "               Registration/plates     344\n",
       "               Moving violation        286\n",
       "               Cell phone              208\n",
       "               Lights                  130\n",
       "               Seat belt               116\n",
       "               Safe movement            58\n",
       "               Stop sign/light          36\n",
       "               Equipment                25\n",
       "               License                  25\n",
       "Name: violation, dtype: int64"
      ]
     },
     "execution_count": 10,
     "metadata": {},
     "output_type": "execute_result"
    }
   ],
   "source": [
    "# Groupby is great.Here's a break-down of violations with respect to sex in one line\n",
    "df.groupby('driver_gender')['violation'].value_counts()"
   ]
  },
  {
   "cell_type": "code",
   "execution_count": 11,
   "metadata": {},
   "outputs": [
    {
     "data": {
      "text/plain": [
       "driver_race  search_conducted\n",
       "Black        False                590\n",
       "             True                  22\n",
       "Hispanic     False                501\n",
       "             True                  13\n",
       "Other        False                  1\n",
       "White        False               3822\n",
       "             True                  51\n",
       "Name: search_conducted, dtype: int64"
      ]
     },
     "execution_count": 11,
     "metadata": {},
     "output_type": "execute_result"
    }
   ],
   "source": [
    "# Groupby is great. Here's a break-down of searches conducted with respect to race\n",
    "df.groupby('driver_race')['search_conducted'].value_counts()"
   ]
  },
  {
   "cell_type": "code",
   "execution_count": 12,
   "metadata": {},
   "outputs": [
    {
     "data": {
      "text/plain": [
       "driver_race\n",
       "Black       3.594771\n",
       "Hispanic    2.529183\n",
       "White       1.316809\n",
       "Name: search_conducted, dtype: float64"
      ]
     },
     "execution_count": 12,
     "metadata": {},
     "output_type": "execute_result"
    }
   ],
   "source": [
    "# Let compute percentages and filter just the True values\n",
    "search_percent = df.groupby('driver_race')['search_conducted'].value_counts(normalize=True)[:, True]*100.0\n",
    "search_percent"
   ]
  },
  {
   "cell_type": "code",
   "execution_count": 13,
   "metadata": {},
   "outputs": [
    {
     "data": {
      "text/plain": [
       "driver_race  stop_outcome   \n",
       "Black        Ticket              71.217105\n",
       "             Verbal Warning      11.677632\n",
       "             Summons              7.565789\n",
       "             Written Warning      6.414474\n",
       "             Arrest               3.125000\n",
       "Hispanic     Ticket              76.435644\n",
       "             Verbal Warning       8.910891\n",
       "             Summons              6.732673\n",
       "             Written Warning      5.544554\n",
       "             Arrest               2.376238\n",
       "Other        Ticket             100.000000\n",
       "White        Ticket              71.762543\n",
       "             Verbal Warning      12.871027\n",
       "             Written Warning     10.795902\n",
       "             Summons              3.020751\n",
       "             Arrest               1.549777\n",
       "Name: stop_outcome, dtype: float64"
      ]
     },
     "execution_count": 13,
     "metadata": {},
     "output_type": "execute_result"
    }
   ],
   "source": [
    "# Here's a break-down of stop outcomes with respect to race (with compute percentages)\n",
    "stop_outcome = df.groupby('driver_race')['stop_outcome'].value_counts(normalize=True)*100.0\n",
    "stop_outcome"
   ]
  },
  {
   "cell_type": "markdown",
   "metadata": {},
   "source": [
    "<img align=\"right\" src=\"images/data_types.png\" width=\"480px\">\n",
    "\n",
    "## Let's Revisit our Categorical Data Types\n",
    "So far we been treating our data as **Nominal** unordered categories, but looking at the data above we see that **stop_outcome** could be treated as an **Ordinal** type. We can order the outcomes by severity from least to most:\n",
    "\n",
    "- Verbal Warning *(least severe)*\n",
    "- Written Warning\n",
    "- Ticket\n",
    "- Summons \n",
    "- Arrest *(most severe)*\n",
    "\n",
    "So, thankfully, Pandas has great support for ordinal types so let's make that change right now :)"
   ]
  },
  {
   "cell_type": "code",
   "execution_count": 105,
   "metadata": {},
   "outputs": [
    {
     "data": {
      "text/plain": [
       "0             Ticket\n",
       "1     Verbal Warning\n",
       "2             Ticket\n",
       "3    Written Warning\n",
       "4             Ticket\n",
       "Name: stop_outcome, dtype: category\n",
       "Categories (5, object): [Verbal Warning < Written Warning < Ticket < Summons < Arrest]"
      ]
     },
     "execution_count": 105,
     "metadata": {},
     "output_type": "execute_result"
    }
   ],
   "source": [
    "# Change our 'stop_outcome' field to an Ordinal Type\n",
    "from pandas.api.types import CategoricalDtype\n",
    "cat_order = ['Verbal Warning', 'Written Warning', 'Ticket', 'Summons', 'Arrest']\n",
    "df['stop_outcome'] = df['stop_outcome'].astype(CategoricalDtype(categories=cat_order, ordered=True))\n",
    "\n",
    "# Print some info about our new, ordinal category type!\n",
    "df.stop_outcome.head()"
   ]
  },
  {
   "cell_type": "markdown",
   "metadata": {},
   "source": [
    "<img align=\"left\" src=\"images/stacking.jpg\" width=\"180px\">\n",
    "\n",
    "## Ordinal Data Discussion\n",
    "We can see from the output above that Pandas now has our 'stop_outcome' field stored as an ordinal categorical type. In fact we can see the < relationship shown above:\n",
    "\n",
    "```\n",
    "    [Verbal Warning < Written Warning < Ticket < Summons < Arrest]\n",
    "```\n",
    "Now that we have this 'order' in place we'll use this to separate out the rows in our data into 'less severe' and 'more severe' stop outcomes. Below you can see that in a line or two of code we're can easily leverage this new powerful capability."
   ]
  },
  {
   "cell_type": "code",
   "execution_count": 32,
   "metadata": {},
   "outputs": [
    {
     "name": "stdout",
     "output_type": "stream",
     "text": [
      "All rows: 5000\n",
      "Less Severe: 4715\n",
      "\t ['Ticket', 'Verbal Warning', 'Written Warning', nan]\n",
      "More Severe: 285\n",
      "\t ['Summons', 'Arrest']\n"
     ]
    }
   ],
   "source": [
    "less_severe = df[df['stop_outcome'] <= 'Ticket']  # Yes this works!\n",
    "more_severe = df[df['stop_outcome'] > 'Ticket']\n",
    "print('All rows: {:d}'.format(len(df)))\n",
    "print('Less Severe: {:d}'.format(len(less_severe)))\n",
    "print('\\t {!r}'.format(list(less_severe['stop_outcome'].unique())))\n",
    "print('More Severe: {:d}'.format(len(more_severe)))\n",
    "print('\\t {!r}'.format(list(more_severe['stop_outcome'].unique())))"
   ]
  },
  {
   "cell_type": "markdown",
   "metadata": {},
   "source": [
    "<img align=\"right\" src=\"images/ooh_cat.jpg\" width=\"300px\">\n",
    "\n",
    "## Let's visualize some of the data\n",
    "Please note that we're looking at only part of the dataset (see data description at top). We must give the standard disclaimer that we're simply observing correlative relationships. Investigation of causal relationships is beyond the scope of this simple notebook.\n",
    "- [Correlation does not imply Causation (wikipedia)](https://en.wikipedia.org/wiki/Correlation_does_not_imply_causation)\n",
    "\n",
    "Now with that disclaimer in place, let's visualize the results of our quick analysis and hopefully it's both informative and eye opening how quickly Pandas enables you to drill down and visualize some interesting results with only a few dozens lines of code."
   ]
  },
  {
   "cell_type": "code",
   "execution_count": 18,
   "metadata": {},
   "outputs": [
    {
     "data": {
      "image/png": "[encoded data removed]",
      "text/plain": [
       "<Figure size 864x360 with 1 Axes>"
      ]
     },
     "metadata": {
      "needs_background": "light"
     },
     "output_type": "display_data"
    }
   ],
   "source": [
    "search_percent.plot(kind='bar',alpha=0.75, rot=0)\n",
    "plt.xlabel('')\n",
    "plt.ylabel('Percentage')\n",
    "plt.title('Police Traffic Stops: Searches Conducted (Percentage by Race)')\n",
    "plt.show()"
   ]
  },
  {
   "cell_type": "code",
   "execution_count": 139,
   "metadata": {},
   "outputs": [
    {
     "data": {
      "image/png": "[encoded data removed]",
      "text/plain": [
       "<Figure size 864x360 with 1 Axes>"
      ]
     },
     "metadata": {
      "needs_background": "light"
     },
     "output_type": "display_data"
    }
   ],
   "source": [
    "# This is a bit tricky because we're dealing with a multi-index\n",
    "severe_outcome = stop_outcome[stop_outcome.index.get_level_values('stop_outcome').isin(['Summons', 'Arrest'])]\n",
    "severe_outcome.unstack().plot(kind='bar', stacked=True, alpha=0.75, rot=0)\n",
    "plt.xlabel('')\n",
    "plt.ylabel('Percentage')\n",
    "plt.title('Police Traffic Stops: \"Severe\" Outcomes (by Race)')\n",
    "plt.show()"
   ]
  },
  {
   "cell_type": "markdown",
   "metadata": {},
   "source": [
    "<img align=\"left\" src=\"images/SCP_med.png\" width=\"210px\">\n",
    "\n",
    "## Wrap Up\n",
    "**Panda's Categorical Support is Super Duper!** \n",
    "\n",
    "The dataframe memory use went from **1.8MB** to **77KB** which is a **A 25x Memory Decrease!** Not only does this conversion use less memory but dataframe operations will see a **significant performance improvement** since the values are now stored in a more efficient form.\n",
    "\n",
    "Please visit our follow up notebook where we'll be discussing how to convert categorical features in preparation for machine learning libraries like Scikit-Learn or PyTorch. **It's an exciting and dangerous adventure!**\n",
    "[Categorical Data, ML, and Dangers!](https://nbviewer.jupyter.org/github/SuperCowPowers/scp-labs/blob/master/notebooks/Categorical_Encoding_Dangers.ipynb).\n",
    "\n",
    "If you liked this notebook please visit [SCP Labs](https://github.com/SuperCowPowers/scp-labs) for more notebooks and examples, or visit our company page for consulting, development and products [SuperCowPowers](https://www.supercowpowers.com)\n",
    "\n",
    "### Feedback\n",
    "We welcome feedback on errors, improvements, or alternative approaches. Please send suggestions to <feedback@supercowpowers.com>"
   ]
  },
  {
   "cell_type": "code",
   "execution_count": 1,
   "metadata": {},
   "outputs": [
    {
     "data": {
      "text/html": [
       "<style>\n",
       "\n",
       "/* Make the font look nice */\n",
       "div.text_cell_render{\n",
       "    font-family: 'Open Sans', sans-serif;\n",
       "    font-size: 110%;\n",
       "    -webkit-font-smoothing: antialiased !important;\n",
       "}\n",
       "\n",
       "\n",
       "/* Wiggle the paddings */\n",
       "div#notebook-container {\n",
       "  padding-top: 10px;\n",
       "  padding-right: 20px;\n",
       "  padding-bottom: 10px;\n",
       "  padding-left: 0px;\n",
       "}\n",
       "\n",
       "\n",
       "/* Put some padding around images + curved corners */\n",
       "img {\n",
       "  border-radius: 38px;\n",
       "  padding: 20px\n",
       "}\n",
       "</style>\n"
      ],
      "text/plain": [
       "<IPython.core.display.HTML object>"
      ]
     },
     "execution_count": 1,
     "metadata": {},
     "output_type": "execute_result"
    }
   ],
   "source": [
    "# This cell is simply for adding some CSS (Ignore it :)\n",
    "from IPython.core.display import HTML\n",
    "def css_styling():\n",
    "    styles = open(\"styles/custom.css\", \"r\").read()\n",
    "    return HTML(styles)\n",
    "css_styling()"
   ]
  }
 ],
 "metadata": {
  "kernelspec": {
   "display_name": "Python 3",
   "language": "python",
   "name": "python3"
  },
  "language_info": {
   "codemirror_mode": {
    "name": "ipython",
    "version": 3
   },
   "file_extension": ".py",
   "mimetype": "text/x-python",
   "name": "python",
   "nbconvert_exporter": "python",
   "pygments_lexer": "ipython3",
   "version": "3.6.6"
  }
 },
 "nbformat": 4,
 "nbformat_minor": 2
}
