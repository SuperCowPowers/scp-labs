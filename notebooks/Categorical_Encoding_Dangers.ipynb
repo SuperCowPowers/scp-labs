{
 "cells": [
  {
   "cell_type": "markdown",
   "metadata": {},
   "source": [
    "<img align=\"right\" src=\"images/data_types.png\" width=\"420px\">\n",
    "\n",
    "## Categorial Encoding Dangers!\n",
    "This notebook describes how to process your categorical data for use with machine learning models. Categorical features include things like:\n",
    "\n",
    "    Music Genre = 'jazz', 'rock', 'classical', ...\n",
    "    DNS Record = 'A', 'AAAA', 'PTR', 'TXT', 'SVR', ...\n",
    "  \n",
    "These features can be important discriminators when classifying or organizing data. Since machine learning libraries like Scikit-Learn or PyTorch need numerical data we need to transform our categorical data into a useable form.\n",
    "\n",
    "The standard approach for this is called **one-hot encoding** or **dummy-encoding**. Both of these techniques convert categorical variables into numeric data. In the notebook below we'll describe the process, go through some code and then describe some dangers and how to avoid them.\n",
    "\n",
    "<img align=\"right\" src=\"images/stanford_po.png\" width=\"280px\">\n",
    "\n",
    "## Data Used\n",
    "- [Standford Open Policing Project](https://openpolicing.stanford.edu/)\n",
    "- [Connecticut Data](https://stacks.stanford.edu/file/druid:py883nd2578/CT-clean.csv.gz)\n",
    "\n",
    "**NOTE:** We're simply using this data for demonstration purposes so we've pulled a subset\n",
    "          of the data above and saved that into a file data/ci_police_data.csv\n",
    "\n",
    "**NOTE 2:** After showing some functionality on real data, we'll construct a very\n",
    "       small synthetic dataset that illustrates some of the DANGERS that can happen\n",
    "       when doing categorical encoding for training/testing pipelines.\n",
    "\n",
    "<img align=\"right\" src=\"images/pandas.png\" width=\"250px\">\n",
    "\n",
    "## Resources for Categorical Encoding\n",
    "- [Pandas Categorical Docs](https://pandas.pydata.org/pandas-docs/stable/categorical.html)\n",
    "- [Pandas Github Issue](https://github.com/pandas-dev/pandas/issues/8918)\n",
    "- [Get Smarties](https://github.com/joeddav/get_smarties)\n",
    "- [Tom Augspurger PyData Chicago 2016](https://youtu.be/KLPtEBokqQ0)\n",
    "- [Categorical Handling for Python](https://www.datacamp.com/community/tutorials/categorical-data)\n",
    "\n",
    "## General Resouces for Pandas\n",
    "- [Python for Data Analysis (Great Book!)](http://shop.oreilly.com/product/0636920050896.do)\n",
    "- [Data School on YouTube](https://www.youtube.com/channel/UCnVzApLJE2ljPZSeQylSEyg)"
   ]
  },
  {
   "cell_type": "markdown",
   "metadata": {},
   "source": [
    "<img align=\"left\" src=\"images/SCP_med.png\" width=\"200px\">\n",
    "<img align=\"right\" src=\"images/nuked.jpg\" width=\"220px\">\n",
    "\n",
    "## Stayed Tuned Partner!\n",
    "This notebook is SO **exciting** and **dangerous** that we have to do a bunch of science lab testing, NASA rocket type stuff and perfect our Ninja skills before we can open it up to the public!"
   ]
  },
  {
   "cell_type": "code",
   "execution_count": 2,
   "metadata": {},
   "outputs": [
    {
     "data": {
      "text/html": [
       "<style>\n",
       "\n",
       "/* Make the font look nice */\n",
       "div.text_cell_render{\n",
       "    font-family: 'Open Sans', sans-serif;\n",
       "    font-size: 110%;\n",
       "    -webkit-font-smoothing: antialiased !important;\n",
       "}\n",
       "\n",
       "\n",
       "/* Wiggle the paddings */\n",
       "div#notebook-container {\n",
       "  padding-top: 10px;\n",
       "  padding-right: 20px;\n",
       "  padding-bottom: 10px;\n",
       "  padding-left: 0px;\n",
       "}\n",
       "\n",
       "\n",
       "/* Put some padding around images + curved corners */\n",
       "img {\n",
       "  border-radius: 38px;\n",
       "  padding: 20px\n",
       "}\n",
       "</style>\n"
      ],
      "text/plain": [
       "<IPython.core.display.HTML object>"
      ]
     },
     "execution_count": 2,
     "metadata": {},
     "output_type": "execute_result"
    }
   ],
   "source": [
    "# This cell is simply for adding some CSS (Ignore it :)\n",
    "from IPython.core.display import HTML\n",
    "def css_styling():\n",
    "    styles = open(\"styles/custom.css\", \"r\").read()\n",
    "    return HTML(styles)\n",
    "css_styling()"
   ]
  }
 ],
 "metadata": {
  "kernelspec": {
   "display_name": "Python 3",
   "language": "python",
   "name": "python3"
  },
  "language_info": {
   "codemirror_mode": {
    "name": "ipython",
    "version": 3
   },
   "file_extension": ".py",
   "mimetype": "text/x-python",
   "name": "python",
   "nbconvert_exporter": "python",
   "pygments_lexer": "ipython3",
   "version": "3.6.6"
  }
 },
 "nbformat": 4,
 "nbformat_minor": 2
}
