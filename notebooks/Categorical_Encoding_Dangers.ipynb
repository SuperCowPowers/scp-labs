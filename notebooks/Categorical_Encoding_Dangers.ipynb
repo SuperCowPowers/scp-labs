{
 "cells": [
  {
   "cell_type": "markdown",
   "metadata": {},
   "source": [
    "<img align=\"right\" src=\"images/nuked_crop.jpg\" width=\"180px\">\n",
    "\n",
    "## Categorical Encoding Dangers: Silent but Deadly!\n",
    "\n",
    "First, make sure you read our [Categorical Encoding Guide](https://nbviewer.jupyter.org/github/SuperCowPowers/scp-labs/blob/master/notebooks/Categorical_Data_Guide.ipynb) for a full overview of Pandas categorical support, memory optimization and performance improvements.\n",
    "\n",
    "Now that you've read the notebook above and are familiar with categorical data, lets dive into the real dangers that can happen when using categorical data for machine learning. These dangers are **silent AND deadly**, the ML model will simply start giving incorrect predictions and pinning down the issue can be extremely hard to diagnose.\n",
    "\n",
    "### Categorical Data Review\n",
    "<img align=\"right\" src=\"images/data_types.png\" width=\"450px\">\n",
    "\n",
    "For a review of the different data types we can look at the diagram on the right. Categorical features are named values and include things like:\n",
    "\n",
    "    Music Genre = 'jazz', 'rock', 'pop', ...\n",
    "    DNS Record = 'A', 'PTR', 'TXT', 'SVR', ...\n",
    "  \n",
    "These types of features can be important discriminators when classifying or organizing data. Since machine learning libraries like Scikit-Learn or PyTorch need numerical data we need to transform our categorical data into a usable form.\n",
    "\n",
    "The standard approach for this is called **one hot encoding** or **dummy-encoding**. This technique converts categorical variables into numeric data. In the notebook below we'll describe the process, go through some code and then describe the often **silent dangers** and how to avoid them.\n",
    "\n",
    "<img align=\"right\" src=\"images/dynamic.jpg\" width=\"350px\">\n",
    "\n",
    "## Synthetic Data\n",
    "Since the dangers are subtle we're going to construct a small synthetic dataset that illustrates the issues that can happen when doing categorical encoding for model training and evaluation.\n",
    "\n",
    "## Resources for Categorical Encoding\n",
    "- [Categorical Encoding Guide](https://nbviewer.jupyter.org/github/SuperCowPowers/scp-labs/blob/master/notebooks/Categorical_Data_Guide.ipynb)\n",
    "<img align=\"right\" src=\"images/pandas.png\" width=\"280px\">\n",
    "- [Pandas Categorical Docs](https://pandas.pydata.org/pandas-docs/stable/categorical.html)\n",
    "- [Pandas Github Issue](https://github.com/pandas-dev/pandas/issues/8918)\n",
    "- [Get Smarties](https://github.com/joeddav/get_smarties)\n",
    "- [Tom Augspurger PyData Chicago 2016](https://youtu.be/KLPtEBokqQ0)\n",
    "- [Categorical Handling for Python](https://www.datacamp.com/community/tutorials/categorical-data)\n",
    "\n",
    "## General Resouces for Pandas\n",
    "- [Python for Data Analysis (Great Book!)](http://shop.oreilly.com/product/0636920050896.do)\n",
    "- [Data School on YouTube](https://www.youtube.com/channel/UCnVzApLJE2ljPZSeQylSEyg)"
   ]
  },
  {
   "cell_type": "code",
   "execution_count": 2,
   "metadata": {},
   "outputs": [
    {
     "name": "stdout",
     "output_type": "stream",
     "text": [
      "Pandas: 0.23.4\n",
      "Scikit-Learn: 0.20.0\n"
     ]
    }
   ],
   "source": [
    "# Note: Good idea to print out library versions\n",
    "import pandas as pd\n",
    "import sklearn\n",
    "print('Pandas: {:s}'.format(pd.__version__))\n",
    "print('Scikit-Learn: {:s}'.format(sklearn.__version__))"
   ]
  },
  {
   "cell_type": "code",
   "execution_count": 3,
   "metadata": {},
   "outputs": [
    {
     "data": {
      "text/html": [
       "<div>\n",
       "<style scoped>\n",
       "    .dataframe tbody tr th:only-of-type {\n",
       "        vertical-align: middle;\n",
       "    }\n",
       "\n",
       "    .dataframe tbody tr th {\n",
       "        vertical-align: top;\n",
       "    }\n",
       "\n",
       "    .dataframe thead th {\n",
       "        text-align: right;\n",
       "    }\n",
       "</style>\n",
       "<table border=\"1\" class=\"dataframe\">\n",
       "  <thead>\n",
       "    <tr style=\"text-align: right;\">\n",
       "      <th></th>\n",
       "      <th>name</th>\n",
       "      <th>food</th>\n",
       "      <th>genre</th>\n",
       "      <th>like_app</th>\n",
       "    </tr>\n",
       "  </thead>\n",
       "  <tbody>\n",
       "    <tr>\n",
       "      <th>0</th>\n",
       "      <td>bob</td>\n",
       "      <td>pizza</td>\n",
       "      <td>sci-fi</td>\n",
       "      <td>True</td>\n",
       "    </tr>\n",
       "    <tr>\n",
       "      <th>1</th>\n",
       "      <td>sue</td>\n",
       "      <td>ham</td>\n",
       "      <td>action</td>\n",
       "      <td>False</td>\n",
       "    </tr>\n",
       "    <tr>\n",
       "      <th>2</th>\n",
       "      <td>jane</td>\n",
       "      <td>pizza</td>\n",
       "      <td>sci-fi</td>\n",
       "      <td>True</td>\n",
       "    </tr>\n",
       "    <tr>\n",
       "      <th>3</th>\n",
       "      <td>joe</td>\n",
       "      <td>tacos</td>\n",
       "      <td>comedy</td>\n",
       "      <td>False</td>\n",
       "    </tr>\n",
       "    <tr>\n",
       "      <th>4</th>\n",
       "      <td>bill</td>\n",
       "      <td>pizza</td>\n",
       "      <td>sci-fi</td>\n",
       "      <td>True</td>\n",
       "    </tr>\n",
       "    <tr>\n",
       "      <th>5</th>\n",
       "      <td>sally</td>\n",
       "      <td>ham</td>\n",
       "      <td>comedy</td>\n",
       "      <td>False</td>\n",
       "    </tr>\n",
       "    <tr>\n",
       "      <th>6</th>\n",
       "      <td>cindy</td>\n",
       "      <td>pizza</td>\n",
       "      <td>sci-fi</td>\n",
       "      <td>True</td>\n",
       "    </tr>\n",
       "    <tr>\n",
       "      <th>7</th>\n",
       "      <td>hank</td>\n",
       "      <td>tacos</td>\n",
       "      <td>action</td>\n",
       "      <td>False</td>\n",
       "    </tr>\n",
       "  </tbody>\n",
       "</table>\n",
       "</div>"
      ],
      "text/plain": [
       "    name   food   genre  like_app\n",
       "0    bob  pizza  sci-fi      True\n",
       "1    sue    ham  action     False\n",
       "2   jane  pizza  sci-fi      True\n",
       "3    joe  tacos  comedy     False\n",
       "4   bill  pizza  sci-fi      True\n",
       "5  sally    ham  comedy     False\n",
       "6  cindy  pizza  sci-fi      True\n",
       "7   hank  tacos  action     False"
      ]
     },
     "execution_count": 3,
     "metadata": {},
     "output_type": "execute_result"
    }
   ],
   "source": [
    "# Synthetic Data (Survey of Potential Customers)\n",
    "names = ['bob', 'sue', 'jane', 'joe', 'bill', 'sally', 'cindy', 'hank']\n",
    "fav_food = ['pizza', 'ham', 'pizza', 'tacos', 'pizza', 'ham', 'pizza', 'tacos']\n",
    "fav_genre = ['sci-fi', 'action', 'sci-fi', 'comedy', 'sci-fi', 'comedy', 'sci-fi', 'action']\n",
    "like_app = [True, False, True, False, True, False, True, False]\n",
    "df = pd.DataFrame({'name':names, 'food':fav_food, 'genre':fav_genre, 'like_app':like_app})\n",
    "df.head(10)"
   ]
  },
  {
   "cell_type": "markdown",
   "metadata": {},
   "source": [
    "<img align=\"right\" src=\"images/dynamic.jpg\" width=\"400px\">\n",
    "\n",
    "## Machine Learning Use Case\n",
    "We're a hot new startup and we're trying to determine which customer demographics to focus on when marketing our new mobile app. We surveyed potential customers, asked if they liked the mock-up of our app **(crayon drawing taped to a phone...cough...)** and collected data on favorite foods and movie genres. \n",
    "\n",
    "Now we're using the data to train our tensorflow, deep-mind, hypertronic, gpu enabled blockchain, generalized AI model..."
   ]
  },
  {
   "cell_type": "code",
   "execution_count": 4,
   "metadata": {},
   "outputs": [],
   "source": [
    "# First lets divide our DataFrame into input features and output variables\n",
    "# We'll use the standard naming: 'X' for feature matrix and 'y' for output array\n",
    "X = df[['food', 'genre']]\n",
    "y = df['like_app']"
   ]
  },
  {
   "cell_type": "markdown",
   "metadata": {},
   "source": [
    "<img align=\"right\" src=\"images/one_hot.png\" width=\"450px\">\n",
    "\n",
    "## What is One Hot Encoding?\n",
    "Machine learning libraries like scikit-learn, PyTorch, TensorFlow will operate on numerical data in the form of arrays or matrices. Looking at the diagram on the right we see that **one hot encoding** converts categorical data into a set of binary arrays, there will be **N new columns** based on the **N possible values** of the categorical data. **Dummy encoding** does the exact same thing except removes one of the columns (so **N-1** columns). Pandas provides both:\n",
    "\n",
    "    pd.get_dummies(df)                  # One Hot Encoding\n",
    "    pd.get_dummies(df, drop_first=True) # Dummy Encoding"
   ]
  },
  {
   "cell_type": "code",
   "execution_count": 5,
   "metadata": {},
   "outputs": [
    {
     "data": {
      "text/html": [
       "<div>\n",
       "<style scoped>\n",
       "    .dataframe tbody tr th:only-of-type {\n",
       "        vertical-align: middle;\n",
       "    }\n",
       "\n",
       "    .dataframe tbody tr th {\n",
       "        vertical-align: top;\n",
       "    }\n",
       "\n",
       "    .dataframe thead th {\n",
       "        text-align: right;\n",
       "    }\n",
       "</style>\n",
       "<table border=\"1\" class=\"dataframe\">\n",
       "  <thead>\n",
       "    <tr style=\"text-align: right;\">\n",
       "      <th></th>\n",
       "      <th>food_ham</th>\n",
       "      <th>food_pizza</th>\n",
       "      <th>food_tacos</th>\n",
       "      <th>genre_action</th>\n",
       "      <th>genre_comedy</th>\n",
       "      <th>genre_sci-fi</th>\n",
       "    </tr>\n",
       "  </thead>\n",
       "  <tbody>\n",
       "    <tr>\n",
       "      <th>0</th>\n",
       "      <td>0</td>\n",
       "      <td>1</td>\n",
       "      <td>0</td>\n",
       "      <td>0</td>\n",
       "      <td>0</td>\n",
       "      <td>1</td>\n",
       "    </tr>\n",
       "    <tr>\n",
       "      <th>1</th>\n",
       "      <td>1</td>\n",
       "      <td>0</td>\n",
       "      <td>0</td>\n",
       "      <td>1</td>\n",
       "      <td>0</td>\n",
       "      <td>0</td>\n",
       "    </tr>\n",
       "    <tr>\n",
       "      <th>2</th>\n",
       "      <td>0</td>\n",
       "      <td>1</td>\n",
       "      <td>0</td>\n",
       "      <td>0</td>\n",
       "      <td>0</td>\n",
       "      <td>1</td>\n",
       "    </tr>\n",
       "    <tr>\n",
       "      <th>3</th>\n",
       "      <td>0</td>\n",
       "      <td>0</td>\n",
       "      <td>1</td>\n",
       "      <td>0</td>\n",
       "      <td>1</td>\n",
       "      <td>0</td>\n",
       "    </tr>\n",
       "    <tr>\n",
       "      <th>4</th>\n",
       "      <td>0</td>\n",
       "      <td>1</td>\n",
       "      <td>0</td>\n",
       "      <td>0</td>\n",
       "      <td>0</td>\n",
       "      <td>1</td>\n",
       "    </tr>\n",
       "    <tr>\n",
       "      <th>5</th>\n",
       "      <td>1</td>\n",
       "      <td>0</td>\n",
       "      <td>0</td>\n",
       "      <td>0</td>\n",
       "      <td>1</td>\n",
       "      <td>0</td>\n",
       "    </tr>\n",
       "    <tr>\n",
       "      <th>6</th>\n",
       "      <td>0</td>\n",
       "      <td>1</td>\n",
       "      <td>0</td>\n",
       "      <td>0</td>\n",
       "      <td>0</td>\n",
       "      <td>1</td>\n",
       "    </tr>\n",
       "    <tr>\n",
       "      <th>7</th>\n",
       "      <td>0</td>\n",
       "      <td>0</td>\n",
       "      <td>1</td>\n",
       "      <td>1</td>\n",
       "      <td>0</td>\n",
       "      <td>0</td>\n",
       "    </tr>\n",
       "  </tbody>\n",
       "</table>\n",
       "</div>"
      ],
      "text/plain": [
       "   food_ham  food_pizza  food_tacos  genre_action  genre_comedy  genre_sci-fi\n",
       "0         0           1           0             0             0             1\n",
       "1         1           0           0             1             0             0\n",
       "2         0           1           0             0             0             1\n",
       "3         0           0           1             0             1             0\n",
       "4         0           1           0             0             0             1\n",
       "5         1           0           0             0             1             0\n",
       "6         0           1           0             0             0             1\n",
       "7         0           0           1             1             0             0"
      ]
     },
     "execution_count": 5,
     "metadata": {},
     "output_type": "execute_result"
    }
   ],
   "source": [
    "# Convert Pandas dataframe columns into a numerical arrays.\n",
    "X = pd.get_dummies(X)\n",
    "X"
   ]
  },
  {
   "cell_type": "code",
   "execution_count": 6,
   "metadata": {},
   "outputs": [
    {
     "name": "stdout",
     "output_type": "stream",
     "text": [
      "[1. 1. 1. 1.]\n",
      "Accuracy: 1.000000 (STD = 0.00)\n"
     ]
    }
   ],
   "source": [
    "# Now we're ready to for our next-gen, deep learning, AI, blah...blah...\n",
    "# Actually before we do that, lets use RandomForest as a baseline and\n",
    "# we'll leave the <bingo words> for another notebook. :)\n",
    "from sklearn.ensemble import RandomForestClassifier\n",
    "awesome_model = RandomForestClassifier(n_estimators=100)\n",
    "\n",
    "# Train the model using cross validation (K-fold)\n",
    "from sklearn.model_selection import cross_val_score\n",
    "scores = cross_val_score(awesome_model, X, y, cv=4)\n",
    "print(scores)\n",
    "print('Accuracy: {:2f} (STD = {:.2f})'.format(scores.mean(), scores.std() * 2))  "
   ]
  },
  {
   "cell_type": "code",
   "execution_count": 7,
   "metadata": {},
   "outputs": [
    {
     "data": {
      "text/plain": [
       "[('food_pizza', 0.3725587301587301),\n",
       " ('genre_sci-fi', 0.3153015873015873),\n",
       " ('food_ham', 0.11399999999999999),\n",
       " ('food_tacos', 0.09022222222222225),\n",
       " ('genre_action', 0.05331428571428571),\n",
       " ('genre_comedy', 0.0446031746031746)]"
      ]
     },
     "execution_count": 7,
     "metadata": {},
     "output_type": "execute_result"
    }
   ],
   "source": [
    "# Sweet our model is 100% accurate, now we train on all the data\n",
    "# and investigate which features the model thought were most important\n",
    "awesome_model.fit(X, y)\n",
    "feature_scores = [(f, s) for f, s in zip(X.columns, awesome_model.feature_importances_)]\n",
    "feature_scores.sort(key=lambda x: x[1], reverse=True)\n",
    "feature_scores"
   ]
  },
  {
   "cell_type": "markdown",
   "metadata": {},
   "source": [
    "<img align=\"left\" src=\"images/faberge_egg.gif\" width=\"180px\">\n",
    "\n",
    "# Nice! We're SO going to be rich!\n",
    "Alright our **extensive** feature analysis shows that if you like Science Fiction and you eat Pizza then your going to love our new app (which Carl made a mock-up of by taping a crayon drawing to his phone). \n",
    "\n",
    "But before we start spending all our new, well earned, money lets try out are model on some new data, because we want to make sure it works before buying that set of faberge eggs!"
   ]
  },
  {
   "cell_type": "code",
   "execution_count": 8,
   "metadata": {},
   "outputs": [
    {
     "data": {
      "text/html": [
       "<div>\n",
       "<style scoped>\n",
       "    .dataframe tbody tr th:only-of-type {\n",
       "        vertical-align: middle;\n",
       "    }\n",
       "\n",
       "    .dataframe tbody tr th {\n",
       "        vertical-align: top;\n",
       "    }\n",
       "\n",
       "    .dataframe thead th {\n",
       "        text-align: right;\n",
       "    }\n",
       "</style>\n",
       "<table border=\"1\" class=\"dataframe\">\n",
       "  <thead>\n",
       "    <tr style=\"text-align: right;\">\n",
       "      <th></th>\n",
       "      <th>name</th>\n",
       "      <th>food</th>\n",
       "      <th>genre</th>\n",
       "      <th>ground_truth_like</th>\n",
       "    </tr>\n",
       "  </thead>\n",
       "  <tbody>\n",
       "    <tr>\n",
       "      <th>0</th>\n",
       "      <td>ted</td>\n",
       "      <td>steak</td>\n",
       "      <td>thriller</td>\n",
       "      <td>False</td>\n",
       "    </tr>\n",
       "    <tr>\n",
       "      <th>1</th>\n",
       "      <td>bob</td>\n",
       "      <td>pizza</td>\n",
       "      <td>sci-fi</td>\n",
       "      <td>True</td>\n",
       "    </tr>\n",
       "    <tr>\n",
       "      <th>2</th>\n",
       "      <td>flo</td>\n",
       "      <td>tacos</td>\n",
       "      <td>comedy</td>\n",
       "      <td>False</td>\n",
       "    </tr>\n",
       "    <tr>\n",
       "      <th>3</th>\n",
       "      <td>june</td>\n",
       "      <td>pizza</td>\n",
       "      <td>sci-fi</td>\n",
       "      <td>True</td>\n",
       "    </tr>\n",
       "  </tbody>\n",
       "</table>\n",
       "</div>"
      ],
      "text/plain": [
       "   name   food     genre  ground_truth_like\n",
       "0   ted  steak  thriller              False\n",
       "1   bob  pizza    sci-fi               True\n",
       "2   flo  tacos    comedy              False\n",
       "3  june  pizza    sci-fi               True"
      ]
     },
     "execution_count": 8,
     "metadata": {},
     "output_type": "execute_result"
    }
   ],
   "source": [
    "# Now we grab some new data to do predictions (data that wasn't part of the training set)\n",
    "names = ['ted', 'bob', 'flo', 'june']\n",
    "fav_food = ['steak','pizza', 'tacos', 'pizza']\n",
    "fav_genre = ['thriller', 'sci-fi', 'comedy', 'sci-fi']\n",
    "like_app = [False, True, False, True]\n",
    "predict_df = pd.DataFrame({'name':names, 'food':fav_food, 'genre':fav_genre, 'ground_truth_like':like_app})\n",
    "predict_df.head(10)"
   ]
  },
  {
   "cell_type": "markdown",
   "metadata": {},
   "source": [
    "<img align=\"right\" src=\"images/sci_fi.png\" width=\"280px\">\n",
    "<img align=\"left\" src=\"images/pizza.jpg\" width=\"240px\">\n",
    "\n",
    "## So close we can smell it!\n",
    "Our feature analysis told us that people who like pizza and sci-fi will like our app. In fact, we can **SEE** that in the small dataset above. So lets run our model prediction, claim our victory and go buy some eggs!"
   ]
  },
  {
   "cell_type": "code",
   "execution_count": 9,
   "metadata": {},
   "outputs": [
    {
     "data": {
      "text/html": [
       "<div>\n",
       "<style scoped>\n",
       "    .dataframe tbody tr th:only-of-type {\n",
       "        vertical-align: middle;\n",
       "    }\n",
       "\n",
       "    .dataframe tbody tr th {\n",
       "        vertical-align: top;\n",
       "    }\n",
       "\n",
       "    .dataframe thead th {\n",
       "        text-align: right;\n",
       "    }\n",
       "</style>\n",
       "<table border=\"1\" class=\"dataframe\">\n",
       "  <thead>\n",
       "    <tr style=\"text-align: right;\">\n",
       "      <th></th>\n",
       "      <th>food_pizza</th>\n",
       "      <th>food_steak</th>\n",
       "      <th>food_tacos</th>\n",
       "      <th>genre_comedy</th>\n",
       "      <th>genre_sci-fi</th>\n",
       "      <th>genre_thriller</th>\n",
       "    </tr>\n",
       "  </thead>\n",
       "  <tbody>\n",
       "    <tr>\n",
       "      <th>0</th>\n",
       "      <td>0</td>\n",
       "      <td>1</td>\n",
       "      <td>0</td>\n",
       "      <td>0</td>\n",
       "      <td>0</td>\n",
       "      <td>1</td>\n",
       "    </tr>\n",
       "    <tr>\n",
       "      <th>1</th>\n",
       "      <td>1</td>\n",
       "      <td>0</td>\n",
       "      <td>0</td>\n",
       "      <td>0</td>\n",
       "      <td>1</td>\n",
       "      <td>0</td>\n",
       "    </tr>\n",
       "    <tr>\n",
       "      <th>2</th>\n",
       "      <td>0</td>\n",
       "      <td>0</td>\n",
       "      <td>1</td>\n",
       "      <td>1</td>\n",
       "      <td>0</td>\n",
       "      <td>0</td>\n",
       "    </tr>\n",
       "    <tr>\n",
       "      <th>3</th>\n",
       "      <td>1</td>\n",
       "      <td>0</td>\n",
       "      <td>0</td>\n",
       "      <td>0</td>\n",
       "      <td>1</td>\n",
       "      <td>0</td>\n",
       "    </tr>\n",
       "  </tbody>\n",
       "</table>\n",
       "</div>"
      ],
      "text/plain": [
       "   food_pizza  food_steak  food_tacos  genre_comedy  genre_sci-fi  \\\n",
       "0           0           1           0             0             0   \n",
       "1           1           0           0             0             1   \n",
       "2           0           0           1             1             0   \n",
       "3           1           0           0             0             1   \n",
       "\n",
       "   genre_thriller  \n",
       "0               1  \n",
       "1               0  \n",
       "2               0  \n",
       "3               0  "
      ]
     },
     "execution_count": 9,
     "metadata": {},
     "output_type": "execute_result"
    }
   ],
   "source": [
    "# We'll do the same conversions we did above when we trained the model\n",
    "X_test = predict_df[['food', 'genre']]\n",
    "X_test = pd.get_dummies(X_test)\n",
    "X_test"
   ]
  },
  {
   "cell_type": "code",
   "execution_count": 10,
   "metadata": {},
   "outputs": [
    {
     "data": {
      "text/html": [
       "<div>\n",
       "<style scoped>\n",
       "    .dataframe tbody tr th:only-of-type {\n",
       "        vertical-align: middle;\n",
       "    }\n",
       "\n",
       "    .dataframe tbody tr th {\n",
       "        vertical-align: top;\n",
       "    }\n",
       "\n",
       "    .dataframe thead th {\n",
       "        text-align: right;\n",
       "    }\n",
       "</style>\n",
       "<table border=\"1\" class=\"dataframe\">\n",
       "  <thead>\n",
       "    <tr style=\"text-align: right;\">\n",
       "      <th></th>\n",
       "      <th>name</th>\n",
       "      <th>food</th>\n",
       "      <th>genre</th>\n",
       "      <th>ground_truth_like</th>\n",
       "      <th>predicted_like</th>\n",
       "    </tr>\n",
       "  </thead>\n",
       "  <tbody>\n",
       "    <tr>\n",
       "      <th>0</th>\n",
       "      <td>ted</td>\n",
       "      <td>steak</td>\n",
       "      <td>thriller</td>\n",
       "      <td>False</td>\n",
       "      <td>True</td>\n",
       "    </tr>\n",
       "    <tr>\n",
       "      <th>1</th>\n",
       "      <td>bob</td>\n",
       "      <td>pizza</td>\n",
       "      <td>sci-fi</td>\n",
       "      <td>True</td>\n",
       "      <td>False</td>\n",
       "    </tr>\n",
       "    <tr>\n",
       "      <th>2</th>\n",
       "      <td>flo</td>\n",
       "      <td>tacos</td>\n",
       "      <td>comedy</td>\n",
       "      <td>False</td>\n",
       "      <td>False</td>\n",
       "    </tr>\n",
       "    <tr>\n",
       "      <th>3</th>\n",
       "      <td>june</td>\n",
       "      <td>pizza</td>\n",
       "      <td>sci-fi</td>\n",
       "      <td>True</td>\n",
       "      <td>False</td>\n",
       "    </tr>\n",
       "  </tbody>\n",
       "</table>\n",
       "</div>"
      ],
      "text/plain": [
       "   name   food     genre  ground_truth_like  predicted_like\n",
       "0   ted  steak  thriller              False            True\n",
       "1   bob  pizza    sci-fi               True           False\n",
       "2   flo  tacos    comedy              False           False\n",
       "3  june  pizza    sci-fi               True           False"
      ]
     },
     "execution_count": 10,
     "metadata": {},
     "output_type": "execute_result"
    }
   ],
   "source": [
    "# Alright that looks good, lets get predictions from our awesome model!\n",
    "y_predict = awesome_model.predict(X_test)\n",
    "predict_df['predicted_like'] = y_predict\n",
    "predict_df.head()"
   ]
  },
  {
   "cell_type": "markdown",
   "metadata": {},
   "source": [
    "<img align=\"left\" src=\"images/confused.jpg\" width=\"230px\">\n",
    "<img align=\"right\" src=\"images/nuked.jpg\" width=\"170px\">\n",
    "\n",
    "## I am SO confused right now... \n",
    "Our model is giving incorrect predictions! Even worse, it didn't crash or complain or do anything. It just **silently** went about its business and gave us complete **junk** for output. \n",
    "\n",
    "As part of a long data pipeline, predictions go into a database and get displayed in a web interface like a week later. In this scenario you may have **no idea** what happened.\n",
    "\n",
    "This small exercise is the simplest example we could contrive. The **category values** in our evaluation data were **slightly different** then the training data. But this **silent and deadly** issue can happen in more subtle ways.. like having the same category values but in different order. Similar issues can occur with Scikit-Learn's [One Hot Encoder](https://scikit-learn.org/stable/modules/generated/sklearn.preprocessing.OneHotEncoder.html) if you're not careful."
   ]
  },
  {
   "cell_type": "markdown",
   "metadata": {},
   "source": [
    "<img align=\"right\" src=\"images/fix_it.jpg\" width=\"200px\">\n",
    "\n",
    "## Pandas Categorical Types to the Rescue \n",
    "Okay, so obviously we have the functionality available in Pandas to fix this issue in a robust way. If you remember from our [Categorical Encoding Guide](https://nbviewer.jupyter.org/github/SuperCowPowers/scp-labs/blob/master/notebooks/Categorical_Data_Guide.ipynb) we can explicitly convert these columns to a categorical dtype. As discussed in the notebook this conversion gives us a **substantial decrease in memory** usage, an **increase in performance**, and as we'll see now, **saves us** from several silent but deadly issues! "
   ]
  },
  {
   "cell_type": "markdown",
   "metadata": {},
   "source": [
    "<img align=\"right\" src=\"images/rewind.png\" width=\"200px\">\n",
    "\n",
    "## Rewind and Recap\n",
    "Let's rewind a bit and codify exactly what we should do during both the training and prediction phases. Once you've done these steps a few times they will start to feel more natural and intuitive.\n",
    "\n",
    "**Training:**\n",
    "1. Defined ALL possible categorical values as a list\n",
    "1. Use that list as part of your CategoricalDtype definition\n",
    "1. Convert columns into CategoricalDtype\n",
    "1. Train model\n",
    "1. Save the model and CategoricalDtype (serialize them to disk/database)\n",
    "\n",
    "**Prediction:**\n",
    "1. Retrieve the model and CategoricalDtype (deserialize them from disk/database)\n",
    "1. Convert columns into CategoricalDtype\n",
    "1. Predict from model\n"
   ]
  },
  {
   "cell_type": "code",
   "execution_count": 11,
   "metadata": {},
   "outputs": [
    {
     "name": "stdout",
     "output_type": "stream",
     "text": [
      "Training and Serialization Done!\n"
     ]
    }
   ],
   "source": [
    "# Going back to our original data, setting up the \n",
    "# categorical types, and then training like before.\n",
    "from pandas.api.types import CategoricalDtype\n",
    "\n",
    "# Define ALL possible categorical values in advance\n",
    "food_vals = ['ham', 'pizza', 'tacos', 'steak']\n",
    "genre_vals = ['action', 'comedy', 'sci-fi', 'thriller']\n",
    "\n",
    "# Create CategoricalDtypes\n",
    "food_type = CategoricalDtype(categories=food_vals)\n",
    "genre_type = CategoricalDtype(categories=genre_vals)\n",
    "\n",
    "# Convert columns (remember this also has memory/performance benefits!)\n",
    "df['food'] = df['food'].astype(food_type)\n",
    "df['genre'] = df['genre'].astype(genre_type)\n",
    "\n",
    "# Prepare data and train the model\n",
    "X_train = pd.get_dummies(df[['food', 'genre']])\n",
    "y_train = df['like_app'] \n",
    "awesome_model.fit(X_train, y_train)\n",
    "\n",
    "# Serialize the model and CategoricalDtypes\n",
    "from sklearn.externals import joblib\n",
    "joblib.dump(awesome_model, 'awesome.pkl')\n",
    "joblib.dump(food_type, 'food_type.pkl')\n",
    "joblib.dump(genre_type, 'genre_type.pkl')\n",
    "print('Training and Serialization Done!')"
   ]
  },
  {
   "cell_type": "code",
   "execution_count": 12,
   "metadata": {},
   "outputs": [
    {
     "name": "stdout",
     "output_type": "stream",
     "text": [
      "Test score: 100.00 %\n"
     ]
    },
    {
     "data": {
      "text/html": [
       "<div>\n",
       "<style scoped>\n",
       "    .dataframe tbody tr th:only-of-type {\n",
       "        vertical-align: middle;\n",
       "    }\n",
       "\n",
       "    .dataframe tbody tr th {\n",
       "        vertical-align: top;\n",
       "    }\n",
       "\n",
       "    .dataframe thead th {\n",
       "        text-align: right;\n",
       "    }\n",
       "</style>\n",
       "<table border=\"1\" class=\"dataframe\">\n",
       "  <thead>\n",
       "    <tr style=\"text-align: right;\">\n",
       "      <th></th>\n",
       "      <th>name</th>\n",
       "      <th>food</th>\n",
       "      <th>genre</th>\n",
       "      <th>ground_truth_like</th>\n",
       "      <th>predicted_like</th>\n",
       "    </tr>\n",
       "  </thead>\n",
       "  <tbody>\n",
       "    <tr>\n",
       "      <th>0</th>\n",
       "      <td>ted</td>\n",
       "      <td>steak</td>\n",
       "      <td>thriller</td>\n",
       "      <td>False</td>\n",
       "      <td>False</td>\n",
       "    </tr>\n",
       "    <tr>\n",
       "      <th>1</th>\n",
       "      <td>bob</td>\n",
       "      <td>pizza</td>\n",
       "      <td>sci-fi</td>\n",
       "      <td>True</td>\n",
       "      <td>True</td>\n",
       "    </tr>\n",
       "    <tr>\n",
       "      <th>2</th>\n",
       "      <td>flo</td>\n",
       "      <td>tacos</td>\n",
       "      <td>comedy</td>\n",
       "      <td>False</td>\n",
       "      <td>False</td>\n",
       "    </tr>\n",
       "    <tr>\n",
       "      <th>3</th>\n",
       "      <td>june</td>\n",
       "      <td>pizza</td>\n",
       "      <td>sci-fi</td>\n",
       "      <td>True</td>\n",
       "      <td>True</td>\n",
       "    </tr>\n",
       "  </tbody>\n",
       "</table>\n",
       "</div>"
      ],
      "text/plain": [
       "   name   food     genre  ground_truth_like  predicted_like\n",
       "0   ted  steak  thriller              False           False\n",
       "1   bob  pizza    sci-fi               True            True\n",
       "2   flo  tacos    comedy              False           False\n",
       "3  june  pizza    sci-fi               True            True"
      ]
     },
     "execution_count": 12,
     "metadata": {},
     "output_type": "execute_result"
    }
   ],
   "source": [
    "# Now we 'reverse' the process for Prediction\n",
    "\n",
    "# Deserialize model and cat dtypes\n",
    "awesome_model = joblib.load('awesome.pkl')\n",
    "food_type = joblib.load('food_type.pkl')\n",
    "genre_type = joblib.load('genre_type.pkl')\n",
    "\n",
    "# Convert columns for our new data used for predictions\n",
    "predict_df['food'] = predict_df['food'].astype(food_type)\n",
    "predict_df['genre'] = predict_df['genre'].astype(genre_type)\n",
    "\n",
    "# Prepare data for input into the prediction model\n",
    "X_test = pd.get_dummies(predict_df[['food', 'genre']])\n",
    "y_test = predict_df['ground_truth_like']\n",
    "\n",
    "# Calculate the accuracy of predictions\n",
    "score = awesome_model.score(X_test, y_test)  \n",
    "print(\"Test score: {0:.2f} %\".format(100 * score))\n",
    "\n",
    "# Now let just push this back onto our dataframe to visually inspect\n",
    "y_predict = awesome_model.predict(X_test)\n",
    "predict_df['predicted_like'] = y_predict\n",
    "predict_df.head()"
   ]
  },
  {
   "cell_type": "markdown",
   "metadata": {},
   "source": [
    "<img align=\"right\" src=\"images/transformers.png\" width=\"300px\">\n",
    "\n",
    "## Okay now we're feeling awesome!\n",
    "Everything is working as expected. Our data is being converted properly, our model is working great. We're feeling awesome, it's probably not Optimus Prime awesome but it's still pretty great!\n",
    "\n",
    "## What about other corner cases?\n",
    "So we avoided some serious issues with the training/prediction approach outlined above using CategoricalDTypes, but what about the following:\n",
    "1. We only predict one observation/row at a time?\n",
    "1. We have fewer category values in our predict set?\n",
    "1. We have a NEW category value that training didn't see?\n",
    "\n",
    "**Let's try these corner case out right now!**"
   ]
  },
  {
   "cell_type": "code",
   "execution_count": 53,
   "metadata": {},
   "outputs": [
    {
     "data": {
      "text/html": [
       "<div>\n",
       "<style scoped>\n",
       "    .dataframe tbody tr th:only-of-type {\n",
       "        vertical-align: middle;\n",
       "    }\n",
       "\n",
       "    .dataframe tbody tr th {\n",
       "        vertical-align: top;\n",
       "    }\n",
       "\n",
       "    .dataframe thead th {\n",
       "        text-align: right;\n",
       "    }\n",
       "</style>\n",
       "<table border=\"1\" class=\"dataframe\">\n",
       "  <thead>\n",
       "    <tr style=\"text-align: right;\">\n",
       "      <th></th>\n",
       "      <th>food</th>\n",
       "      <th>genre</th>\n",
       "      <th>name</th>\n",
       "    </tr>\n",
       "  </thead>\n",
       "  <tbody>\n",
       "    <tr>\n",
       "      <th>0</th>\n",
       "      <td>pizza</td>\n",
       "      <td>sci-fi</td>\n",
       "      <td>carl</td>\n",
       "    </tr>\n",
       "  </tbody>\n",
       "</table>\n",
       "</div>"
      ],
      "text/plain": [
       "    food   genre  name\n",
       "0  pizza  sci-fi  carl"
      ]
     },
     "metadata": {},
     "output_type": "display_data"
    },
    {
     "name": "stdout",
     "output_type": "stream",
     "text": [
      "Like Prediction: True\n"
     ]
    }
   ],
   "source": [
    "# NOTE: Corner cases 1 and 2 can both be tested with one observation/row\n",
    "\n",
    "# Let do our predictions one observation/row at a time\n",
    "# Yes building a Dataframe from one row might seem silly\n",
    "# but you want EXACTLY the same data setup as for training\n",
    "one_row_df = pd.DataFrame([{'name': 'carl', 'food': 'pizza', 'genre': 'sci-fi'}])\n",
    "\n",
    "# Convert columns \n",
    "one_row_df['food'] = one_row_df['food'].astype(food_type)\n",
    "one_row_df['genre'] = one_row_df['genre'].astype(genre_type)\n",
    "display(one_row_df)\n",
    "\n",
    "# Prepare data for input into the prediction model\n",
    "X = pd.get_dummies(one_row_df[['food', 'genre']])\n",
    "\n",
    "# Predict and output info\n",
    "y_predict = awesome_model.predict(X)[0]\n",
    "print('Like Prediction: {!r}'.format(y_predict))"
   ]
  },
  {
   "cell_type": "code",
   "execution_count": 52,
   "metadata": {},
   "outputs": [
    {
     "name": "stdout",
     "output_type": "stream",
     "text": [
      "Before conversion:\n"
     ]
    },
    {
     "data": {
      "text/html": [
       "<div>\n",
       "<style scoped>\n",
       "    .dataframe tbody tr th:only-of-type {\n",
       "        vertical-align: middle;\n",
       "    }\n",
       "\n",
       "    .dataframe tbody tr th {\n",
       "        vertical-align: top;\n",
       "    }\n",
       "\n",
       "    .dataframe thead th {\n",
       "        text-align: right;\n",
       "    }\n",
       "</style>\n",
       "<table border=\"1\" class=\"dataframe\">\n",
       "  <thead>\n",
       "    <tr style=\"text-align: right;\">\n",
       "      <th></th>\n",
       "      <th>food</th>\n",
       "      <th>genre</th>\n",
       "      <th>name</th>\n",
       "    </tr>\n",
       "  </thead>\n",
       "  <tbody>\n",
       "    <tr>\n",
       "      <th>0</th>\n",
       "      <td>spaghetti</td>\n",
       "      <td>anime</td>\n",
       "      <td>carl</td>\n",
       "    </tr>\n",
       "  </tbody>\n",
       "</table>\n",
       "</div>"
      ],
      "text/plain": [
       "        food  genre  name\n",
       "0  spaghetti  anime  carl"
      ]
     },
     "metadata": {},
     "output_type": "display_data"
    },
    {
     "name": "stdout",
     "output_type": "stream",
     "text": [
      "\n",
      "\n",
      "After conversion:\n"
     ]
    },
    {
     "data": {
      "text/html": [
       "<div>\n",
       "<style scoped>\n",
       "    .dataframe tbody tr th:only-of-type {\n",
       "        vertical-align: middle;\n",
       "    }\n",
       "\n",
       "    .dataframe tbody tr th {\n",
       "        vertical-align: top;\n",
       "    }\n",
       "\n",
       "    .dataframe thead th {\n",
       "        text-align: right;\n",
       "    }\n",
       "</style>\n",
       "<table border=\"1\" class=\"dataframe\">\n",
       "  <thead>\n",
       "    <tr style=\"text-align: right;\">\n",
       "      <th></th>\n",
       "      <th>food</th>\n",
       "      <th>genre</th>\n",
       "      <th>name</th>\n",
       "    </tr>\n",
       "  </thead>\n",
       "  <tbody>\n",
       "    <tr>\n",
       "      <th>0</th>\n",
       "      <td>NaN</td>\n",
       "      <td>NaN</td>\n",
       "      <td>carl</td>\n",
       "    </tr>\n",
       "  </tbody>\n",
       "</table>\n",
       "</div>"
      ],
      "text/plain": [
       "  food genre  name\n",
       "0  NaN   NaN  carl"
      ]
     },
     "metadata": {},
     "output_type": "display_data"
    },
    {
     "data": {
      "text/html": [
       "<div>\n",
       "<style scoped>\n",
       "    .dataframe tbody tr th:only-of-type {\n",
       "        vertical-align: middle;\n",
       "    }\n",
       "\n",
       "    .dataframe tbody tr th {\n",
       "        vertical-align: top;\n",
       "    }\n",
       "\n",
       "    .dataframe thead th {\n",
       "        text-align: right;\n",
       "    }\n",
       "</style>\n",
       "<table border=\"1\" class=\"dataframe\">\n",
       "  <thead>\n",
       "    <tr style=\"text-align: right;\">\n",
       "      <th></th>\n",
       "      <th>food_ham</th>\n",
       "      <th>food_pizza</th>\n",
       "      <th>food_tacos</th>\n",
       "      <th>food_steak</th>\n",
       "      <th>genre_action</th>\n",
       "      <th>genre_comedy</th>\n",
       "      <th>genre_sci-fi</th>\n",
       "      <th>genre_thriller</th>\n",
       "    </tr>\n",
       "  </thead>\n",
       "  <tbody>\n",
       "    <tr>\n",
       "      <th>0</th>\n",
       "      <td>0</td>\n",
       "      <td>0</td>\n",
       "      <td>0</td>\n",
       "      <td>0</td>\n",
       "      <td>0</td>\n",
       "      <td>0</td>\n",
       "      <td>0</td>\n",
       "      <td>0</td>\n",
       "    </tr>\n",
       "  </tbody>\n",
       "</table>\n",
       "</div>"
      ],
      "text/plain": [
       "   food_ham  food_pizza  food_tacos  food_steak  genre_action  genre_comedy  \\\n",
       "0         0           0           0           0             0             0   \n",
       "\n",
       "   genre_sci-fi  genre_thriller  \n",
       "0             0               0  "
      ]
     },
     "metadata": {},
     "output_type": "display_data"
    },
    {
     "name": "stdout",
     "output_type": "stream",
     "text": [
      "\n",
      "Like Prediction: False\n"
     ]
    }
   ],
   "source": [
    "# What if we see a NEW category value that the training didn't see?!\n",
    "one_row_df = pd.DataFrame([{'name': 'carl', 'food': 'spaghetti', 'genre': 'anime'}])\n",
    "print('Before conversion:')\n",
    "display(one_row_df)\n",
    "one_row_df['food'] = one_row_df['food'].astype(food_type)\n",
    "one_row_df['genre'] = one_row_df['genre'].astype(genre_type)\n",
    "print('\\n\\nAfter conversion:')\n",
    "display(one_row_df)\n",
    "\n",
    "# Prepare data for input into the prediction model\n",
    "X = pd.get_dummies(one_row_df[['food', 'genre']])\n",
    "\n",
    "# Predict and output info\n",
    "y_predict = awesome_model.predict(X)[0]\n",
    "display(X)\n",
    "print('\\nLike Prediction: {!r}'.format(y_predict))"
   ]
  },
  {
   "cell_type": "markdown",
   "metadata": {},
   "source": [
    "<img align=\"right\" src=\"images/no_spaghetti.jpg\" width=\"280px\">\n",
    "\n",
    "## What happened to 'spaghetti' and 'anime'?\n",
    "Looking at the data above we can see that if the category value is new (hasn't been seen) that value is replaced with a NaN. When we convert to a numerical array no known categories will be set. In general this will work 'fine', meaning that the model will still evaluate it, won't crash, and *probably* give the expected answers. The *probably* qualification is here because to formally address this you should train your model with NaNs. To be extra sure.\n",
    "\n",
    "Okay, so we've **tested all our corner cases** and everything is working great!"
   ]
  },
  {
   "cell_type": "markdown",
   "metadata": {},
   "source": [
    "<img align=\"left\" src=\"images/deep_dive.jpg\" width=\"280px\">\n",
    "\n",
    "## Deeper Dive\n",
    "We covered a simple approach to avoiding Categorical Encoding Dangers. For a production system with large data pipelines there are better/more formal approaches. In particular you may want to use a TransformerMixin class. Tom Augspurger goes through this approach, if you're interesting in a deeper dive this is a great talk [Tom Augspurger PyData Chicago 2016](https://youtu.be/KLPtEBokqQ0)."
   ]
  },
  {
   "cell_type": "markdown",
   "metadata": {},
   "source": [
    "<img align=\"left\" src=\"images/SCP_med.png\" width=\"180px\">\n",
    "<img align=\"right\" src=\"images/nuked.jpg\" width=\"190px\">\n",
    "\n",
    "\n",
    "## Wrap Up\n",
    "Well this notebook certainly was an **exciting and dangerous adventure!**. We're now prepared to use categorical data in our machine learning models without fear of the hidden dangers.\n",
    "\n",
    "If you liked this notebook please visit [SCP Labs](https://github.com/SuperCowPowers/scp-labs) for more notebooks and examples, or visit our company page for consulting, development and products [SuperCowPowers](https://www.supercowpowers.com)\n",
    "\n",
    "### Feedback\n",
    "We welcome feedback on errors, improvements, or alternative approaches. Please send suggestions to <feedback@supercowpowers.com>"
   ]
  },
  {
   "cell_type": "code",
   "execution_count": 1,
   "metadata": {},
   "outputs": [
    {
     "data": {
      "text/html": [
       "<style>\n",
       "\n",
       "/* Increase the dataframe font size a bit*/\n",
       "table.dataframe {\n",
       "    font-size:100%;\n",
       "}\n",
       "\n",
       "/* Make the MarkDown font look nice */\n",
       "div.text_cell_render{\n",
       "    font-family: 'Open Sans', sans-serif;\n",
       "    font-size: 110%;\n",
       "    -webkit-font-smoothing: antialiased !important;\n",
       "}\n",
       "\n",
       "\n",
       "/* Wiggle the paddings */\n",
       "div#notebook-container {\n",
       "  padding-top: 10px;\n",
       "  padding-right: 20px;\n",
       "  padding-bottom: 10px;\n",
       "  padding-left: 0px;\n",
       "}\n",
       "\n",
       "\n",
       "/* Put some padding around images + curved corners */\n",
       "img {\n",
       "  border-radius: 38px;\n",
       "  padding: 20px\n",
       "}\n",
       "</style>\n"
      ],
      "text/plain": [
       "<IPython.core.display.HTML object>"
      ]
     },
     "execution_count": 1,
     "metadata": {},
     "output_type": "execute_result"
    }
   ],
   "source": [
    "# This cell is simply for adding some CSS (Ignore it :)\n",
    "from IPython.core.display import HTML\n",
    "def css_styling():\n",
    "    styles = open(\"styles/custom.css\", \"r\").read()\n",
    "    return HTML(styles)\n",
    "css_styling()"
   ]
  }
 ],
 "metadata": {
  "kernelspec": {
   "display_name": "Python 3",
   "language": "python",
   "name": "python3"
  },
  "language_info": {
   "codemirror_mode": {
    "name": "ipython",
    "version": 3
   },
   "file_extension": ".py",
   "mimetype": "text/x-python",
   "name": "python",
   "nbconvert_exporter": "python",
   "pygments_lexer": "ipython3",
   "version": "3.6.6"
  }
 },
 "nbformat": 4,
 "nbformat_minor": 2
}
