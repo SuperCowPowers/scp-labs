version https://git-lfs.github.com/spec/v1
oid sha256:bdafc0f1d68ba9b3e367f61f54cf3c05095598e7f0fdd2074b1ec7a3475023fa
size 156562
