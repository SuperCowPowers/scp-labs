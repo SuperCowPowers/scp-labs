version https://git-lfs.github.com/spec/v1
oid sha256:a5bf38d6e015a69c9cf561a93767be8aa09b1e0ab57997c80b0430662a2a6a7c
size 157378
