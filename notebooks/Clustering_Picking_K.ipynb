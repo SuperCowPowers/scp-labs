version https://git-lfs.github.com/spec/v1
oid sha256:52a251129403a6e822773c525ab1aa63c3729cdb6bc1b1edcfb227027ac78217
size 145649
